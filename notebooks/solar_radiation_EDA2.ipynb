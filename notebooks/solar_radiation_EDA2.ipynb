{
 "cells": [
  {
   "cell_type": "code",
   "execution_count": null,
   "metadata": {},
   "outputs": [],
   "source": [
    "import pandas as pd\n",
    "import matplotlib.pyplot as plt\n",
    "import seaborn as sns\n",
    "import numpy as np\n",
    "from scipy.stats import zscore"
   ]
  },
  {
   "cell_type": "code",
   "execution_count": null,
   "metadata": {},
   "outputs": [],
   "source": [
    "# Load CSV files into DataFrames\n",
    "bm = pd.read_csv(\"../data/benin-malanville.csv\")\n",
    "sb = pd.read_csv(\"../data/sierraleone-bumbuna.csv\")\n",
    "td = pd.read_csv(\"../data/togo-dapaong_qc.csv\")"
   ]
  },
  {
   "cell_type": "code",
   "execution_count": null,
   "metadata": {},
   "outputs": [],
   "source": [
    "print(\"shape of benin-malanville:\", bm.shape)\n",
    "print(\"shape of sierraleone-bumbuna:\", sb.shape)\n",
    "print(\"shape of togo-dapaong_qc:\",td.shape)"
   ]
  },
  {
   "cell_type": "code",
   "execution_count": null,
   "metadata": {},
   "outputs": [],
   "source": [
    "\n",
    "bm.head()"
   ]
  },
  {
   "cell_type": "code",
   "execution_count": null,
   "metadata": {},
   "outputs": [],
   "source": [
    "\n",
    "sb.head()"
   ]
  },
  {
   "cell_type": "code",
   "execution_count": null,
   "metadata": {},
   "outputs": [],
   "source": [
    "\n",
    "td.head()"
   ]
  },
  {
   "cell_type": "code",
   "execution_count": null,
   "metadata": {},
   "outputs": [],
   "source": [
    "\n",
    "bm.info()"
   ]
  },
  {
   "cell_type": "code",
   "execution_count": null,
   "metadata": {},
   "outputs": [],
   "source": [
    "sb.info()"
   ]
  },
  {
   "cell_type": "code",
   "execution_count": null,
   "metadata": {},
   "outputs": [],
   "source": [
    "td.info()"
   ]
  },
  {
   "cell_type": "code",
   "execution_count": null,
   "metadata": {},
   "outputs": [],
   "source": [
    "\n",
    "bm['Timestamp'] = pd.to_datetime(bm['Timestamp'])"
   ]
  },
  {
   "cell_type": "code",
   "execution_count": null,
   "metadata": {},
   "outputs": [],
   "source": [
    "\n",
    "sb['Timestamp'] = pd.to_datetime(sb['Timestamp'])"
   ]
  },
  {
   "cell_type": "code",
   "execution_count": null,
   "metadata": {},
   "outputs": [],
   "source": [
    "\n",
    "td['Timestamp'] = pd.to_datetime(td['Timestamp'])"
   ]
  },
  {
   "cell_type": "code",
   "execution_count": null,
   "metadata": {},
   "outputs": [],
   "source": [
    "\n",
    "bm.set_index('Timestamp', inplace=True)\n",
    "sb.set_index('Timestamp', inplace=True)\n",
    "td.set_index('Timestamp', inplace=True)"
   ]
  },
  {
   "cell_type": "code",
   "execution_count": null,
   "metadata": {},
   "outputs": [],
   "source": [
    "summary_stats_bm = bm.describe()\n",
    "summary_stats_bm"
   ]
  },
  {
   "cell_type": "code",
   "execution_count": null,
   "metadata": {},
   "outputs": [],
   "source": [
    "\n",
    "summary_stats_sb = sb.describe()\n",
    "summary_stats_sb"
   ]
  },
  {
   "cell_type": "code",
   "execution_count": null,
   "metadata": {},
   "outputs": [],
   "source": [
    "summary_stats_td = td.describe()\n",
    "summary_stats_td"
   ]
  },
  {
   "cell_type": "code",
   "execution_count": null,
   "metadata": {},
   "outputs": [],
   "source": [
    "\n",
    "missing_values_bm = bm.isnull().sum()\n",
    "print(missing_values_bm)"
   ]
  },
  {
   "cell_type": "code",
   "execution_count": null,
   "metadata": {},
   "outputs": [],
   "source": [
    "\n",
    "missing_values_sb = sb.isnull().sum()\n",
    "print(missing_values_sb)"
   ]
  },
  {
   "cell_type": "code",
   "execution_count": null,
   "metadata": {},
   "outputs": [],
   "source": [
    "\n",
    "missing_values_td = td.isnull().sum()\n",
    "print(missing_values_td)"
   ]
  },
  {
   "cell_type": "code",
   "execution_count": null,
   "metadata": {},
   "outputs": [],
   "source": [
    "\n",
    "bm.drop(columns=['Comments'], inplace=True)\n",
    "sb.drop(columns=['Comments'], inplace=True)\n",
    "td.drop(columns=['Comments'], inplace=True)"
   ]
  },
  {
   "cell_type": "code",
   "execution_count": null,
   "metadata": {},
   "outputs": [],
   "source": [
    "bm[['GHI', 'DNI', 'DHI', 'Tamb']].plot(subplots=True, figsize=(12, 8))\n",
    "plt.show()"
   ]
  },
  {
   "cell_type": "code",
   "execution_count": null,
   "metadata": {},
   "outputs": [],
   "source": [
    "sb[['GHI', 'DNI', 'DHI', 'Tamb']].plot(subplots=True, figsize=(12, 8))\n",
    "plt.show()"
   ]
  },
  {
   "cell_type": "code",
   "execution_count": null,
   "metadata": {},
   "outputs": [],
   "source": [
    "\n",
    "td[['GHI', 'DNI', 'DHI', 'Tamb']].plot(subplots=True, figsize=(12, 8))\n",
    "plt.show()"
   ]
  },
  {
   "cell_type": "code",
   "execution_count": null,
   "metadata": {},
   "outputs": [],
   "source": [
    "# Plot sensor readings over time\n",
    "plt.figure(figsize=(6, 3))\n",
    "sns.lineplot(data=bm, x=bm.index, y='ModA', hue='Cleaning')\n",
    "plt.title('ModA Sensor Readings Over Time')\n",
    "plt.show()"
   ]
  },
  {
   "cell_type": "code",
   "execution_count": null,
   "metadata": {},
   "outputs": [],
   "source": [
    "# Plot sensor readings over time\n",
    "plt.figure(figsize=(6, 3))\n",
    "sns.lineplot(data=sb, x=sb.index, y='ModA', hue='Cleaning')\n",
    "plt.title('ModA Sensor Readings Over Time')\n",
    "plt.show()"
   ]
  },
  {
   "cell_type": "code",
   "execution_count": null,
   "metadata": {},
   "outputs": [],
   "source": [
    "\n",
    "# Plot sensor readings over time\n",
    "plt.figure(figsize=(6, 3))\n",
    "sns.lineplot(data=td, x=td.index, y='ModA', hue='Cleaning')\n",
    "plt.title('ModA Sensor Readings Over Time')\n",
    "plt.show()"
   ]
  },
  {
   "cell_type": "code",
   "execution_count": null,
   "metadata": {},
   "outputs": [],
   "source": [
    "# Histograms\n",
    "plt.figure(figsize=(15, 10))\n",
    "columns = ['GHI', 'DNI', 'DHI', 'ModA', 'ModB', 'Tamb', 'RH', 'WS', 'WSgust', 'WSstdev', 'WD', 'WDstdev', 'BP', 'Precipitation', 'TModA', 'TModB']\n",
    "for i, col in enumerate(columns, 1):\n",
    "    plt.subplot(4, 4, i)\n",
    "    sns.histplot(bm[col], bins=50, kde=True)\n",
    "    plt.title(f'Distribution of {col}')\n",
    "    plt.xlabel(col)\n",
    "    plt.ylabel('Frequency')\n",
    "plt.tight_layout()\n",
    "plt.show()\n",
    "\n",
    "# Boxplots\n",
    "plt.figure(figsize=(15, 10))\n",
    "for i, col in enumerate(columns, 1):\n",
    "    plt.subplot(4, 4, i)\n",
    "    sns.boxplot(x=bm[col])\n",
    "    plt.title(f'Boxplot of {col}')\n",
    "    plt.xlabel(col)\n",
    "plt.tight_layout()\n",
    "plt.show()\n"
   ]
  },
  {
   "cell_type": "code",
   "execution_count": null,
   "metadata": {},
   "outputs": [],
   "source": [
    "# Histograms\n",
    "plt.figure(figsize=(15, 10))\n",
    "columns = ['GHI', 'DNI', 'DHI', 'ModA', 'ModB', 'Tamb', 'RH', 'WS', 'WSgust', 'WSstdev', 'WD', 'WDstdev', 'BP', 'Precipitation', 'TModA', 'TModB']\n",
    "for i, col in enumerate(columns, 1):\n",
    "    plt.subplot(4, 4, i)\n",
    "    sns.histplot(sb[col], bins=50, kde=True)\n",
    "    plt.title(f'Distribution of {col}')\n",
    "    plt.xlabel(col)\n",
    "    plt.ylabel('Frequency')\n",
    "plt.tight_layout()\n",
    "plt.show()\n",
    "\n",
    "# Boxplots\n",
    "plt.figure(figsize=(15, 10))\n",
    "for i, col in enumerate(columns, 1):\n",
    "    plt.subplot(4, 4, i)\n",
    "    sns.boxplot(x=sb[col])\n",
    "    plt.title(f'Boxplot of {col}')\n",
    "    plt.xlabel(col)\n",
    "plt.tight_layout()\n",
    "plt.show()"
   ]
  },
  {
   "cell_type": "code",
   "execution_count": null,
   "metadata": {},
   "outputs": [],
   "source": [
    "# Histograms\n",
    "plt.figure(figsize=(15, 10))\n",
    "columns = ['GHI', 'DNI', 'DHI', 'ModA', 'ModB', 'Tamb', 'RH', 'WS', 'WSgust', 'WSstdev', 'WD', 'WDstdev', 'BP', 'Precipitation', 'TModA', 'TModB']\n",
    "for i, col in enumerate(columns, 1):\n",
    "    plt.subplot(4, 4, i)\n",
    "    sns.histplot(td[col], bins=50, kde=True)\n",
    "    plt.title(f'Distribution of {col}')\n",
    "    plt.xlabel(col)\n",
    "    plt.ylabel('Frequency')\n",
    "plt.tight_layout()\n",
    "plt.show()\n",
    "\n",
    "# Boxplots\n",
    "plt.figure(figsize=(15, 10))\n",
    "for i, col in enumerate(columns, 1):\n",
    "    plt.subplot(4, 4, i)\n",
    "    sns.boxplot(x=td[col])\n",
    "    plt.title(f'Boxplot of {col}')\n",
    "    plt.xlabel(col)\n",
    "plt.tight_layout()\n",
    "plt.show()"
   ]
  },
  {
   "cell_type": "code",
   "execution_count": null,
   "metadata": {},
   "outputs": [],
   "source": [
    "# Check for negative values in columns where they are not expected\n",
    "negative_values_bm = bm[bm[['GHI', 'DNI', 'DHI', 'ModA', 'ModB', 'Tamb', 'RH', 'WS', 'WSgust', 'WSstdev', 'BP', 'Precipitation', 'TModA', 'TModB']] < 0]\n",
    "print(negative_values_bm)"
   ]
  },
  {
   "cell_type": "code",
   "execution_count": null,
   "metadata": {},
   "outputs": [],
   "source": [
    "# Check for negative values in columns where they are not expected\n",
    "negative_values_sb = sb[sb[['GHI', 'DNI', 'DHI', 'ModA', 'ModB', 'Tamb', 'RH', 'WS', 'WSgust', 'WSstdev', 'BP', 'Precipitation', 'TModA', 'TModB']] < 0]\n",
    "print(negative_values_sb)"
   ]
  },
  {
   "cell_type": "code",
   "execution_count": null,
   "metadata": {},
   "outputs": [],
   "source": [
    "# Check for negative values in columns where they are not expected\n",
    "negative_values_td = td[td[['GHI', 'DNI', 'DHI', 'ModA', 'ModB', 'Tamb', 'RH', 'WS', 'WSgust', 'WSstdev', 'BP', 'Precipitation', 'TModA', 'TModB']] < 0]\n",
    "print(negative_values_td)"
   ]
  },
  {
   "cell_type": "code",
   "execution_count": null,
   "metadata": {},
   "outputs": [],
   "source": [
    "def count_negative_values(df, columns):\n",
    "    negative_counts = {}\n",
    "    for col in columns:\n",
    "        if col in df.columns:\n",
    "            negative_counts[col] = (df[col] < 0).sum()\n",
    "        else:\n",
    "            negative_counts[col] = None  # Column not found in DataFrame\n",
    "    return negative_counts"
   ]
  },
  {
   "cell_type": "code",
   "execution_count": null,
   "metadata": {},
   "outputs": [],
   "source": [
    "cols_to_check = ['GHI', 'DNI', 'DHI', 'ModA', 'ModB', 'Tamb', 'RH', 'WS', 'WSgust', 'WSstdev', 'BP', 'Precipitation', 'TModA', 'TModB']\n",
    "negative_counts_bm = count_negative_values(bm, cols_to_check)\n",
    "negative_counts_sb = count_negative_values(sb, cols_to_check)\n",
    "negative_counts_td = count_negative_values(td, cols_to_check)\n",
    "# Print results\n",
    "print(\"Negative counts in bm:\")\n",
    "print(negative_counts_bm)\n",
    "\n",
    "print(\"\\nNegative counts in sb:\")\n",
    "print(negative_counts_sb)\n",
    "\n",
    "print(\"\\nNegative counts in td:\")\n",
    "print(negative_counts_td)"
   ]
  },
  {
   "cell_type": "code",
   "execution_count": null,
   "metadata": {},
   "outputs": [],
   "source": [
    "cols_to_clean = ['GHI', 'DNI', 'DHI', 'ModA', 'ModB', 'Tamb', 'RH', 'WS', 'WSgust', 'WSstdev', 'BP', 'Precipitation', 'TModA', 'TModB']"
   ]
  },
  {
   "cell_type": "code",
   "execution_count": null,
   "metadata": {},
   "outputs": [],
   "source": [
    "def replace_negative_values(df, columns):\n",
    "    for col in columns:\n",
    "        if col in df.columns:\n",
    "            df[col] = df[col].apply(lambda x: max(x, 0))  # Replace negative values with 0\n",
    "    return df"
   ]
  },
  {
   "cell_type": "code",
   "execution_count": null,
   "metadata": {},
   "outputs": [],
   "source": [
    "bm_cleaned = replace_negative_values(bm.copy(), cols_to_clean)\n",
    "sb_cleaned = replace_negative_values(sb.copy(), cols_to_clean)\n",
    "td_cleaned = replace_negative_values(td.copy(), cols_to_clean)"
   ]
  },
  {
   "cell_type": "code",
   "execution_count": null,
   "metadata": {},
   "outputs": [],
   "source": [
    "def check_negative_values(df, columns):\n",
    "    negative_counts = {}\n",
    "    for col in columns:\n",
    "        if col in df.columns:\n",
    "            negative_counts[col] = (df[col] < 0).sum()\n",
    "        else:\n",
    "            negative_counts[col] = None  # Column not found in DataFrame\n",
    "    return negative_counts"
   ]
  },
  {
   "cell_type": "code",
   "execution_count": null,
   "metadata": {},
   "outputs": [],
   "source": [
    "# Verify the changes\n",
    "print(\"Negative counts in cleaned bm:\")\n",
    "print(check_negative_values(bm_cleaned, cols_to_clean))\n",
    "\n",
    "print(\"\\nNegative counts in cleaned sb:\")\n",
    "print(check_negative_values(sb_cleaned, cols_to_clean))\n",
    "\n",
    "print(\"\\nNegative counts in cleaned td:\")\n",
    "print(check_negative_values(td_cleaned, cols_to_clean))"
   ]
  },
  {
   "cell_type": "code",
   "execution_count": null,
   "metadata": {},
   "outputs": [],
   "source": [
    "# Replace negative values with zero\n",
    "bm['GHI'] = bm['GHI'].apply(lambda x: max(x, 0))\n",
    "bm['DNI'] = bm['DNI'].apply(lambda x: max(x, 0))\n",
    "bm['DHI'] = bm['DHI'].apply(lambda x: max(x, 0))"
   ]
  },
  {
   "cell_type": "code",
   "execution_count": null,
   "metadata": {},
   "outputs": [],
   "source": [
    "def detect_outliers_iqr(df, columns):\n",
    "    outliers = {}\n",
    "    for col in columns:\n",
    "        if col in df.columns:\n",
    "            # Calculate Q1 (25th percentile) and Q3 (75th percentile)\n",
    "            Q1 = df[col].quantile(0.25)\n",
    "            Q3 = df[col].quantile(0.75)\n",
    "            IQR = Q3 - Q1\n",
    "            \n",
    "            # Define bounds for outliers\n",
    "            lower_bound = Q1 - 1.5 * IQR\n",
    "            upper_bound = Q3 + 1.5 * IQR\n",
    "            \n",
    "            # Find outliers\n",
    "            outlier_indices = df[(df[col] < lower_bound) | (df[col] > upper_bound)].index\n",
    "            outliers[col] = len(outlier_indices)\n",
    "    return outliers"
   ]
  },
  {
   "cell_type": "code",
   "execution_count": null,
   "metadata": {},
   "outputs": [],
   "source": [
    "# Check for outliers\n",
    "outliers_bm = detect_outliers_iqr(bm_cleaned, cols_to_clean)\n",
    "outliers_sb = detect_outliers_iqr(sb_cleaned, cols_to_clean)\n",
    "outliers_td = detect_outliers_iqr(td_cleaned, cols_to_clean)\n",
    "\n",
    "# Print outliers information\n",
    "print(\"Outliers in cleaned bm:\")\n",
    "print(outliers_bm)\n",
    "\n",
    "print(\"\\nOutliers in cleaned sb:\")\n",
    "print(outliers_sb)\n",
    "\n",
    "print(\"\\nOutliers in cleaned td:\")\n",
    "print(outliers_td)"
   ]
  },
  {
   "cell_type": "code",
   "execution_count": null,
   "metadata": {},
   "outputs": [],
   "source": [
    "def cap_outliers_iqr(df, columns):\n",
    "    for col in columns:\n",
    "        if col in df.columns:\n",
    "            # Calculate Q1 (25th percentile) and Q3 (75th percentile)\n",
    "            Q1 = df[col].quantile(0.25)\n",
    "            Q3 = df[col].quantile(0.75)\n",
    "            IQR = Q3 - Q1\n",
    "            \n",
    "            # Define bounds for capping\n",
    "            lower_bound = Q1 - 1.5 * IQR\n",
    "            upper_bound = Q3 + 1.5 * IQR\n",
    "            \n",
    "            # Cap outliers\n",
    "            df[col] = np.clip(df[col], lower_bound, upper_bound)\n",
    "    return df"
   ]
  },
  {
   "cell_type": "code",
   "execution_count": null,
   "metadata": {},
   "outputs": [],
   "source": [
    "# Cap outliers\n",
    "bm_final = cap_outliers_iqr(bm_cleaned, cols_to_clean)\n",
    "sb_final = cap_outliers_iqr(sb_cleaned, cols_to_clean)\n",
    "td_final = cap_outliers_iqr(td_cleaned, cols_to_clean)"
   ]
  },
  {
   "cell_type": "code",
   "execution_count": null,
   "metadata": {},
   "outputs": [],
   "source": [
    "# Summary statistics after handling outliers\n",
    "print(\"Summary statistics for final bm:\")\n",
    "print(bm_final.describe())"
   ]
  },
  {
   "cell_type": "code",
   "execution_count": null,
   "metadata": {},
   "outputs": [],
   "source": [
    "print(\"\\nSummary statistics for final sb:\")\n",
    "print(sb_final.describe())"
   ]
  },
  {
   "cell_type": "code",
   "execution_count": null,
   "metadata": {},
   "outputs": [],
   "source": [
    "print(\"\\nSummary statistics for final td:\")\n",
    "print(td_final.describe())"
   ]
  },
  {
   "cell_type": "code",
   "execution_count": null,
   "metadata": {},
   "outputs": [],
   "source": [
    "def plot_histograms(df, columns, figsize=(15, 10)):\n",
    "    \"\"\"\n",
    "    Plots histograms for each specified column in the DataFrame.\n",
    "    \n",
    "    Parameters:\n",
    "    df (pd.DataFrame): The DataFrame containing the data.\n",
    "    columns (list): List of column names to plot histograms for.\n",
    "    figsize (tuple): Size of the figure.\n",
    "    \"\"\"\n",
    "    num_columns = len(columns)\n",
    "    num_rows = (num_columns // 3) + (num_columns % 3 > 0)  # Create enough rows to fit all columns\n",
    "    \n",
    "    plt.figure(figsize=figsize)\n",
    "    \n",
    "    for i, col in enumerate(columns):\n",
    "        plt.subplot(num_rows, 3, i + 1)\n",
    "        plt.hist(df[col].dropna(), bins=30, edgecolor='black')  # Drop NaNs for histogram plotting\n",
    "        plt.title(f'Histogram of {col}')\n",
    "        plt.xlabel(col)\n",
    "        plt.ylabel('Frequency')\n",
    "    \n",
    "    plt.tight_layout()\n",
    "    plt.show()"
   ]
  },
  {
   "cell_type": "code",
   "execution_count": null,
   "metadata": {},
   "outputs": [],
   "source": [
    "# Plot histograms for final datasets\n",
    "plot_histograms(bm_final, cols_to_clean)\n",
    "plot_histograms(sb_final, cols_to_clean)\n",
    "plot_histograms(td_final, cols_to_clean)"
   ]
  },
  {
   "cell_type": "code",
   "execution_count": null,
   "metadata": {},
   "outputs": [],
   "source": [
    "def plot_correlation_matrix(df, columns, figsize=(12, 10)):\n",
    "    \"\"\"\n",
    "    Plots a heatmap of the correlation matrix for specified columns in the DataFrame.\n",
    "    \n",
    "    Parameters:\n",
    "    df (pd.DataFrame): The DataFrame containing the data.\n",
    "    columns (list): List of column names to include in the correlation matrix.\n",
    "    figsize (tuple): Size of the figure.\n",
    "    \"\"\"\n",
    "    plt.figure(figsize=figsize)\n",
    "    correlation_matrix = df[columns].corr()  # Compute the correlation matrix\n",
    "    sns.heatmap(correlation_matrix, annot=True, cmap='coolwarm', fmt='.2f', linewidths=0.5, vmin=-1, vmax=1)\n",
    "    plt.title('Correlation Matrix')\n",
    "    plt.show()"
   ]
  },
  {
   "cell_type": "code",
   "execution_count": null,
   "metadata": {},
   "outputs": [],
   "source": [
    "# Plot correlation matrices for final datasets\n",
    "plot_correlation_matrix(bm_final, cols_to_clean)\n",
    "plot_correlation_matrix(sb_final, cols_to_clean)\n",
    "plot_correlation_matrix(td_final, cols_to_clean)"
   ]
  },
  {
   "cell_type": "code",
   "execution_count": null,
   "metadata": {},
   "outputs": [],
   "source": [
    "def plot_time_series(df, columns, title='Time Series Plot', figsize=(15, 10), legend_loc='upper right'):\n",
    "    \"\"\"\n",
    "    Plots time series data for specified columns in the DataFrame.\n",
    "    \n",
    "    Parameters:\n",
    "    df (pd.DataFrame): The DataFrame containing the data.\n",
    "    columns (list): List of column names to plot as time series.\n",
    "    title (str): Title of the plot.\n",
    "    figsize (tuple): Size of the figure.\n",
    "    legend_loc (str): Location of the legend.\n",
    "    \"\"\"\n",
    "    plt.figure(figsize=figsize)\n",
    "    for col in columns:\n",
    "        # Sample data if necessary\n",
    "        df_sampled = df[::100]  # Adjust sampling rate as needed\n",
    "        plt.plot(df_sampled.index, df_sampled[col], label=col)\n",
    "    \n",
    "    plt.title(title)\n",
    "    plt.xlabel('Timestamp')\n",
    "    plt.ylabel('Value')\n",
    "    plt.legend(loc=legend_loc)  # Fixed legend location\n",
    "    plt.tight_layout()\n",
    "    plt.show()"
   ]
  },
  {
   "cell_type": "code",
   "execution_count": null,
   "metadata": {},
   "outputs": [],
   "source": [
    "# Plot time series for final datasets\n",
    "plot_time_series(bm_final, cols_to_clean, 'Final bm')\n",
    "plot_time_series(sb_final, cols_to_clean, 'Final sb')\n",
    "plot_time_series(td_final, cols_to_clean, 'Final td')"
   ]
  },
  {
   "cell_type": "code",
   "execution_count": null,
   "metadata": {},
   "outputs": [],
   "source": [
    "def plot_wind_polar(df, wind_speed_col='WS', wind_direction_col='WD', title='Wind Speed and Direction Polar Plot', figsize=(8, 8)):\n",
    "    \"\"\"\n",
    "    Plots a polar plot for wind speed and direction.\n",
    "    \n",
    "    Parameters:\n",
    "    df (pd.DataFrame): The DataFrame containing the data.\n",
    "    wind_speed_col (str): Column name for wind speed.\n",
    "    wind_direction_col (str): Column name for wind direction.\n",
    "    title (str): Title of the plot.\n",
    "    figsize (tuple): Size of the figure.\n",
    "    \"\"\"\n",
    "    # Convert wind direction from degrees to radians\n",
    "    wind_direction_rad = np.deg2rad(df[wind_direction_col].dropna())\n",
    "    wind_speed = df[wind_speed_col].dropna()\n",
    "    \n",
    "    plt.figure(figsize=figsize)\n",
    "    ax = plt.subplot(111, projection='polar')\n",
    "    ax.scatter(wind_direction_rad, wind_speed, c=wind_speed, cmap='coolwarm', alpha=0.75, edgecolors='w', s=30)\n",
    "    ax.set_title(title, va='bottom')\n",
    "    plt.show()"
   ]
  },
  {
   "cell_type": "code",
   "execution_count": null,
   "metadata": {},
   "outputs": [],
   "source": [
    "# Call the function to plot the polar plot for wind speed and direction\n",
    "plot_wind_polar(bm_final, wind_speed_col='WS', wind_direction_col='WD', title='Wind Speed and Direction Polar Plot')"
   ]
  },
  {
   "cell_type": "code",
   "execution_count": null,
   "metadata": {},
   "outputs": [],
   "source": [
    "# Call the function to plot the polar plot for wind speed and direction\n",
    "plot_wind_polar(bm_final, wind_speed_col='WS', wind_direction_col='WD', title='Wind Speed and Direction Polar Plot')"
   ]
  },
  {
   "cell_type": "code",
   "execution_count": null,
   "metadata": {},
   "outputs": [],
   "source": [
    "# Call the function to plot the polar plot for wind speed and direction\n",
    "plot_wind_polar(sb_final, wind_speed_col='WS', wind_direction_col='WD', title='Wind Speed and Direction Polar Plot')"
   ]
  },
  {
   "cell_type": "code",
   "execution_count": null,
   "metadata": {},
   "outputs": [],
   "source": [
    "# Call the function to plot the polar plot for wind speed and direction\n",
    "plot_wind_polar(td_final, wind_speed_col='WS', wind_direction_col='WD', title='Wind Speed and Direction Polar Plot')"
   ]
  },
  {
   "cell_type": "code",
   "execution_count": null,
   "metadata": {},
   "outputs": [],
   "source": [
    "def plot_wind_histograms(df, wind_speed_col='WS', wind_direction_col='WD', bins=30, figsize=(14, 6)):\n",
    "    \"\"\"\n",
    "    Plots histograms for wind speed and direction.\n",
    "    \n",
    "    Parameters:\n",
    "    df (pd.DataFrame): The DataFrame containing the data.\n",
    "    wind_speed_col (str): Column name for wind speed.\n",
    "    wind_direction_col (str): Column name for wind direction.\n",
    "    bins (int): Number of bins for the histograms.\n",
    "    figsize (tuple): Size of the figure.\n",
    "    \"\"\"\n",
    "    plt.figure(figsize=figsize)\n",
    "    \n",
    "    plt.subplot(1, 2, 1)\n",
    "    plt.hist(df[wind_speed_col].dropna(), bins=bins, color='skyblue', edgecolor='black')\n",
    "    plt.title('Wind Speed Histogram')\n",
    "    plt.xlabel('Wind Speed')\n",
    "    plt.ylabel('Frequency')\n",
    "    \n",
    "    plt.subplot(1, 2, 2)\n",
    "    plt.hist(df[wind_direction_col].dropna(), bins=bins, color='lightgreen', edgecolor='black')\n",
    "    plt.title('Wind Direction Histogram')\n",
    "    plt.xlabel('Wind Direction (Degrees)')\n",
    "    plt.ylabel('Frequency')\n",
    "    \n",
    "    plt.tight_layout()\n",
    "    plt.show()"
   ]
  },
  {
   "cell_type": "code",
   "execution_count": null,
   "metadata": {},
   "outputs": [],
   "source": [
    "# Call the function to plot histograms for wind speed and direction\n",
    "plot_wind_histograms(bm_final, wind_speed_col='WS', wind_direction_col='WD', bins=30)"
   ]
  },
  {
   "cell_type": "code",
   "execution_count": null,
   "metadata": {},
   "outputs": [],
   "source": [
    "\n",
    "# Call the function to plot histograms for wind speed and direction\n",
    "plot_wind_histograms(sb_final, wind_speed_col='WS', wind_direction_col='WD', bins=30)"
   ]
  },
  {
   "cell_type": "code",
   "execution_count": null,
   "metadata": {},
   "outputs": [],
   "source": [
    "# Call the function to plot histograms for wind speed and direction\n",
    "plot_wind_histograms(td_final, wind_speed_col='WS', wind_direction_col='WD', bins=30)"
   ]
  },
  {
   "cell_type": "code",
   "execution_count": null,
   "metadata": {},
   "outputs": [],
   "source": [
    "def wind_rose(df, wind_speed_col='WS', wind_direction_col='WD', bins=8, title='Wind Rose Chart', figsize=(10, 10)):\n",
    "    \"\"\"\n",
    "    Plots a wind rose chart.\n",
    "    \n",
    "    Parameters:\n",
    "    df (pd.DataFrame): The DataFrame containing the data.\n",
    "    wind_speed_col (str): Column name for wind speed.\n",
    "    wind_direction_col (str): Column name for wind direction.\n",
    "    bins (int): Number of bins for the wind directions.\n",
    "    title (str): Title of the plot.\n",
    "    figsize (tuple): Size of the figure.\n",
    "    \"\"\"\n",
    "    # Prepare data\n",
    "    df = df.dropna(subset=[wind_speed_col, wind_direction_col])\n",
    "    directions = df[wind_direction_col]\n",
    "    speeds = df[wind_speed_col]\n",
    "    \n",
    "    # Create wind rose bins\n",
    "    direction_bins = np.linspace(0, 360, bins + 1)\n",
    "    speed_bins = np.linspace(0, speeds.max(), bins + 1)\n",
    "    \n",
    "    wind_direction = pd.cut(directions, direction_bins, right=False)\n",
    "    wind_speed = pd.cut(speeds, speed_bins, right=False)\n",
    "    \n",
    "    # Count occurrences in each bin\n",
    "    wind_rose_df = pd.crosstab(wind_direction, wind_speed).fillna(0)\n",
    "    \n",
    "    # Normalize and plot\n",
    "    wind_rose_df = wind_rose_df.div(wind_rose_df.sum(axis=1), axis=0)\n",
    "    \n",
    "    plt.figure(figsize=figsize)\n",
    "    ax = plt.subplot(111, polar=True)\n",
    "    \n",
    "    # Plot each wind speed bin\n",
    "    for i, col in enumerate(wind_rose_df.columns):\n",
    "        theta = np.linspace(0, 2 * np.pi, len(wind_rose_df.index), endpoint=False)\n",
    "        radii = wind_rose_df[col].values\n",
    "        width = 2 * np.pi / len(wind_rose_df.index)\n",
    "        bars = ax.bar(theta, radii, width=width, color=plt.cm.viridis(i / len(wind_rose_df.columns)), edgecolor='w', alpha=0.7)\n",
    "    \n",
    "    ax.set_title(title, va='bottom')\n",
    "    plt.show()\n"
   ]
  },
  {
   "cell_type": "code",
   "execution_count": null,
   "metadata": {},
   "outputs": [],
   "source": [
    "# Call the function to plot the wind rose chart\n",
    "wind_rose(bm_final, wind_speed_col='WS', wind_direction_col='WD', bins=8)"
   ]
  },
  {
   "cell_type": "code",
   "execution_count": null,
   "metadata": {},
   "outputs": [],
   "source": [
    "# Call the function to plot the wind rose chart\n",
    "wind_rose(sb_final, wind_speed_col='WS', wind_direction_col='WD', bins=8)"
   ]
  },
  {
   "cell_type": "code",
   "execution_count": null,
   "metadata": {},
   "outputs": [],
   "source": [
    "# Call the function to plot the wind rose chart\n",
    "wind_rose(td_final, wind_speed_col='WS', wind_direction_col='WD', bins=8)"
   ]
  },
  {
   "cell_type": "code",
   "execution_count": null,
   "metadata": {},
   "outputs": [],
   "source": [
    "def plot_temperature_scatter(df, temp_col='Tamb', other_cols=None, figsize=(12, 6)):\n",
    "    \"\"\"\n",
    "    Plots scatter plots for temperature vs other variables.\n",
    "    \n",
    "    Parameters:\n",
    "    df (pd.DataFrame): The DataFrame containing the data.\n",
    "    temp_col (str): Column name for temperature.\n",
    "    other_cols (list): List of column names to plot against temperature.\n",
    "    figsize (tuple): Size of the figure.\n",
    "    \"\"\"\n",
    "    if other_cols is None:\n",
    "        other_cols = ['GHI', 'DNI', 'DHI', 'RH']\n",
    "    \n",
    "    plt.figure(figsize=figsize)\n",
    "    \n",
    "    for col in other_cols:\n",
    "        plt.scatter(df[temp_col], df[col], alpha=0.5, label=col)\n",
    "    \n",
    "    plt.title(f'Temperature vs Other Variables')\n",
    "    plt.xlabel('Temperature')\n",
    "    plt.ylabel('Other Variables')\n",
    "    plt.legend()\n",
    "    plt.tight_layout()\n",
    "    plt.show()"
   ]
  },
  {
   "cell_type": "code",
   "execution_count": null,
   "metadata": {},
   "outputs": [],
   "source": [
    "# Call the function to plot scatter plots for temperature vs other variables\n",
    "plot_temperature_scatter(bm_final, temp_col='Tamb', other_cols=['GHI', 'DNI', 'DHI', 'RH'])"
   ]
  },
  {
   "cell_type": "code",
   "execution_count": null,
   "metadata": {},
   "outputs": [],
   "source": [
    "# Call the function to plot scatter plots for temperature vs other variables\n",
    "plot_temperature_scatter(sb_final, temp_col='Tamb', other_cols=['GHI', 'DNI', 'DHI', 'RH'])"
   ]
  },
  {
   "cell_type": "code",
   "execution_count": null,
   "metadata": {},
   "outputs": [],
   "source": [
    "# Call the function to plot scatter plots for temperature vs other variables\n",
    "plot_temperature_scatter(td_final, temp_col='Tamb', other_cols=['GHI', 'DNI', 'DHI', 'RH'])"
   ]
  },
  {
   "cell_type": "code",
   "execution_count": null,
   "metadata": {},
   "outputs": [],
   "source": [
    "def plot_temperature_histogram(df, temp_col='Tamb', bins=30, figsize=(10, 6)):\n",
    "    \"\"\"\n",
    "    Plots a histogram for the distribution of temperature readings.\n",
    "    \n",
    "    Parameters:\n",
    "    df (pd.DataFrame): The DataFrame containing the data.\n",
    "    temp_col (str): Column name for temperature.\n",
    "    bins (int): Number of bins for the histogram.\n",
    "    figsize (tuple): Size of the figure.\n",
    "    \"\"\"\n",
    "    plt.figure(figsize=figsize)\n",
    "    plt.hist(df[temp_col].dropna(), bins=bins, color='skyblue', edgecolor='black')\n",
    "    plt.title('Temperature Distribution Histogram')\n",
    "    plt.xlabel('Temperature')\n",
    "    plt.ylabel('Frequency')\n",
    "    plt.tight_layout()\n",
    "    plt.show()"
   ]
  },
  {
   "cell_type": "code",
   "execution_count": null,
   "metadata": {},
   "outputs": [],
   "source": [
    "# Call the function to plot the temperature distribution histogram\n",
    "plot_temperature_histogram(bm_final, temp_col='Tamb', bins=30)\n",
    "plot_temperature_histogram(sb_final, temp_col='Tamb', bins=30)\n",
    "plot_temperature_histogram(td_final, temp_col='Tamb', bins=30)"
   ]
  },
  {
   "cell_type": "code",
   "execution_count": null,
   "metadata": {},
   "outputs": [],
   "source": [
    "def plot_bubble_chart(df, x_col, y_col, size_col, title='', xlabel='', ylabel='', size_scale=100):\n",
    "    \"\"\"\n",
    "    Plot a bubble chart with the given DataFrame.\n",
    "\n",
    "    Parameters:\n",
    "    - df: DataFrame containing the data\n",
    "    - x_col: column name for x-axis\n",
    "    - y_col: column name for y-axis\n",
    "    - size_col: column name for bubble size\n",
    "    - title: title of the plot\n",
    "    - xlabel: label for x-axis\n",
    "    - ylabel: label for y-axis\n",
    "    - size_scale: scaling factor for bubble sizes\n",
    "    \"\"\"\n",
    "    plt.figure(figsize=(10, 6))\n",
    "    plt.scatter(df[x_col], df[y_col], s=df[size_col] * size_scale, alpha=0.5, edgecolors=\"w\", linewidth=0.5)\n",
    "    plt.title(title)\n",
    "    plt.xlabel(xlabel)\n",
    "    plt.ylabel(ylabel)\n",
    "    plt.grid(True)\n",
    "    plt.show()"
   ]
  },
  {
   "cell_type": "code",
   "execution_count": null,
   "metadata": {},
   "outputs": [],
   "source": [
    "plot_bubble_chart(bm_final, x_col='GHI', y_col='Tamb', size_col='RH', title='GHI vs. Tamb with RH as Bubble Size', xlabel='GHI', ylabel='Tamb')\n",
    "plot_bubble_chart(sb_final, x_col='GHI', y_col='Tamb', size_col='RH', title='GHI vs. Tamb with RH as Bubble Size', xlabel='GHI', ylabel='Tamb')\n",
    "plot_bubble_chart(td_final, x_col='GHI', y_col='Tamb', size_col='RH', title='GHI vs. Tamb with RH as Bubble Size', xlabel='GHI', ylabel='Tamb')"
   ]
  },
  {
   "cell_type": "code",
   "execution_count": null,
   "metadata": {},
   "outputs": [],
   "source": [
    "def calculate_z_scores(df, cols):\n",
    "    \"\"\"\n",
    "    Calculate Z-scores for specified columns in the DataFrame.\n",
    "\n",
    "    Parameters:\n",
    "    - df: DataFrame containing the data\n",
    "    - cols: list of column names for which to calculate Z-scores\n",
    "\n",
    "    Returns:\n",
    "    - DataFrame with Z-scores for the specified columns\n",
    "    \"\"\"\n",
    "    z_scores = df[cols].apply(zscore)\n",
    "    return z_scores"
   ]
  },
  {
   "cell_type": "code",
   "execution_count": null,
   "metadata": {},
   "outputs": [],
   "source": [
    "def identify_outliers_z_score(df, cols, threshold=3):\n",
    "    \"\"\"\n",
    "    Identify outliers in the DataFrame based on Z-scores.\n",
    "\n",
    "    Parameters:\n",
    "    - df: DataFrame containing the data\n",
    "    - cols: list of column names to check for outliers\n",
    "    - threshold: Z-score threshold for considering a point as an outlier\n",
    "\n",
    "    Returns:\n",
    "    - DataFrame with outliers marked\n",
    "    \"\"\"\n",
    "    z_scores = calculate_z_scores(df, cols)\n",
    "    outliers = (z_scores.abs() > threshold).any(axis=1)\n",
    "    return df[outliers]"
   ]
  },
  {
   "cell_type": "code",
   "execution_count": null,
   "metadata": {},
   "outputs": [],
   "source": [
    "# Calculate Z-scores\n",
    "z_scores = calculate_z_scores(bm_final, ['GHI', 'DNI', 'DHI'])\n",
    "print(z_scores.head())\n",
    "\n",
    "# Identify outliers\n",
    "outliers = identify_outliers_z_score(bm_final, ['GHI', 'DNI', 'DHI'], threshold=3)\n",
    "print(outliers)"
   ]
  }
 ],
 "metadata": {
  "language_info": {
   "name": "python"
  }
 },
 "nbformat": 4,
 "nbformat_minor": 2
}
